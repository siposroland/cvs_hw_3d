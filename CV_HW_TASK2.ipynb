{
  "nbformat": 4,
  "nbformat_minor": 0,
  "metadata": {
    "colab": {
      "name": "CV_HW_TASK2.ipynb",
      "provenance": [],
      "collapsed_sections": [],
      "toc_visible": true,
      "include_colab_link": true
    },
    "kernelspec": {
      "name": "python3",
      "display_name": "Python 3"
    },
    "accelerator": "GPU"
  },
  "cells": [
    {
      "cell_type": "markdown",
      "metadata": {
        "id": "view-in-github",
        "colab_type": "text"
      },
      "source": [
        "<a href=\"https://colab.research.google.com/github/siposroland/cvs_hw_3d/blob/master/CV_HW_TASK2.ipynb\" target=\"_parent\"><img src=\"https://colab.research.google.com/assets/colab-badge.svg\" alt=\"Open In Colab\"/></a>"
      ]
    },
    {
      "cell_type": "code",
      "metadata": {
        "id": "PamoFyMdGtLV",
        "colab_type": "code",
        "outputId": "f819d2af-6f93-4a69-fe28-7582182cb20f",
        "colab": {
          "base_uri": "https://localhost:8080/",
          "height": 102
        }
      },
      "source": [
        "# installing Requirements\n",
        "!pip install torch torchvision"
      ],
      "execution_count": 0,
      "outputs": [
        {
          "output_type": "stream",
          "text": [
            "Requirement already satisfied: torch in /usr/local/lib/python3.6/dist-packages (1.5.0+cu101)\n",
            "Requirement already satisfied: torchvision in /usr/local/lib/python3.6/dist-packages (0.6.0+cu101)\n",
            "Requirement already satisfied: numpy in /usr/local/lib/python3.6/dist-packages (from torch) (1.18.4)\n",
            "Requirement already satisfied: future in /usr/local/lib/python3.6/dist-packages (from torch) (0.16.0)\n",
            "Requirement already satisfied: pillow>=4.1.1 in /usr/local/lib/python3.6/dist-packages (from torchvision) (7.0.0)\n"
          ],
          "name": "stdout"
        }
      ]
    },
    {
      "cell_type": "markdown",
      "metadata": {
        "id": "Q4QG11l8HCd0",
        "colab_type": "text"
      },
      "source": [
        "# Download dataset"
      ]
    },
    {
      "cell_type": "code",
      "metadata": {
        "id": "fHI_dtauHB67",
        "colab_type": "code",
        "outputId": "0e1e96a4-01da-4d75-d2cb-0bc7379410a0",
        "colab": {
          "base_uri": "https://localhost:8080/",
          "height": 418
        }
      },
      "source": [
        "# Homework dataset\n",
        "!wget http://deeplearning.iit.bme.hu/CVS/HW.zip\n",
        "!unzip -qq HW.zip\n",
        "!rm HW.zip\n",
        "\n",
        "# Traffic Sign Classification set\n",
        "!wget http://deeplearning.iit.bme.hu/CVS/trafficSignsHW.zip\n",
        "!unzip -qq trafficSignsHW.zip\n",
        "!rm trafficSignsHW.zip"
      ],
      "execution_count": 0,
      "outputs": [
        {
          "output_type": "stream",
          "text": [
            "--2020-05-23 11:02:45--  http://deeplearning.iit.bme.hu/CVS/HW.zip\n",
            "Resolving deeplearning.iit.bme.hu (deeplearning.iit.bme.hu)... 152.66.243.112\n",
            "Connecting to deeplearning.iit.bme.hu (deeplearning.iit.bme.hu)|152.66.243.112|:80... connected.\n",
            "HTTP request sent, awaiting response... 200 OK\n",
            "Length: 14446460 (14M) [application/zip]\n",
            "Saving to: ‘HW.zip’\n",
            "\n",
            "HW.zip              100%[===================>]  13.78M  9.43MB/s    in 1.5s    \n",
            "\n",
            "2020-05-23 11:02:50 (9.43 MB/s) - ‘HW.zip’ saved [14446460/14446460]\n",
            "\n",
            "--2020-05-23 11:02:53--  http://deeplearning.iit.bme.hu/CVS/trafficSignsHW.zip\n",
            "Resolving deeplearning.iit.bme.hu (deeplearning.iit.bme.hu)... 152.66.243.112\n",
            "Connecting to deeplearning.iit.bme.hu (deeplearning.iit.bme.hu)|152.66.243.112|:80... connected.\n",
            "HTTP request sent, awaiting response... 200 OK\n",
            "Length: 175675617 (168M) [application/zip]\n",
            "Saving to: ‘trafficSignsHW.zip’\n",
            "\n",
            "trafficSignsHW.zip  100%[===================>] 167.54M  19.1MB/s    in 9.5s    \n",
            "\n",
            "2020-05-23 11:03:07 (17.7 MB/s) - ‘trafficSignsHW.zip’ saved [175675617/175675617]\n",
            "\n"
          ],
          "name": "stdout"
        }
      ]
    },
    {
      "cell_type": "markdown",
      "metadata": {
        "id": "2RDqheHhHNOb",
        "colab_type": "text"
      },
      "source": [
        "Class names\n"
      ]
    },
    {
      "cell_type": "code",
      "metadata": {
        "id": "Ty8PrL97HPlH",
        "colab_type": "code",
        "colab": {}
      },
      "source": [
        "classNames = ['traffic sign', 'vehicle', 'cactus']\n",
        "subclassNames = [\n",
        "    ['Bump', 'Bumpy road', 'Bus stop', 'Children', 'Crossing (blue)', 'Crossing (red)', 'Cyclists',\n",
        "     'Danger (other)', 'Dangerous left turn', 'Dangerous right turn', 'Give way', 'Go ahead', 'Go ahead or left',\n",
        "     'Go ahead or right', 'Go around either way', 'Go around left', 'Go around right', 'Intersection', 'Limit 100',\n",
        "     'Limit 120', 'Limit 20', 'Limit 30', 'Limit 50', 'Limit 60', 'Limit 70', 'Limit 80', 'Limit 80 over',\n",
        "     'Limit over', 'Main road', 'Main road over', 'Multiple dangerous turns', 'Narrow road (left)',\n",
        "     'Narrow road (right)', 'No entry', 'No entry (both directions)', 'No entry (truck)', 'No stopping', 'No takeover',\n",
        "     'No takeover (truck)', 'No takeover (truck) end', 'No takeover end', 'No waiting', 'One way road',\n",
        "     'Parking', 'Road works', 'Roundabout', 'Slippery road', 'Stop', 'Traffic light', 'Train crossing',\n",
        "     'Train crossing (no barrier)', 'Wild animals', 'X - Priority', 'X - Turn left', 'X - Turn right'],\n",
        "    ['SUV','truck','plane'],\n",
        "    ['happy','sad','angry','evil']\n",
        "]"
      ],
      "execution_count": 0,
      "outputs": []
    },
    {
      "cell_type": "markdown",
      "metadata": {
        "id": "tBrbrBJSHTss",
        "colab_type": "text"
      },
      "source": [
        "# Your Work"
      ]
    },
    {
      "cell_type": "code",
      "metadata": {
        "id": "q4lS6XLnHXCL",
        "colab_type": "code",
        "outputId": "fb0cdcd0-34c2-47d4-d28f-fc0c0217e349",
        "colab": {
          "base_uri": "https://localhost:8080/",
          "height": 882
        }
      },
      "source": [
        "import torch\n",
        "import torch.nn as nn\n",
        "import torchvision\n",
        "from torchvision import transforms\n",
        "from torch import optim\n",
        "\n",
        "# Convolutional module (Conv+ReLU+BatchNorm)\n",
        "class Conv(nn.Module):\n",
        "  def __init__(self, in_channels, channels,kernel_size=3, stride=1):   #kernel_size=3\n",
        "     super(Conv, self).__init__()\n",
        "     self.conv = nn.Conv2d(in_channels, channels, kernel_size, stride=stride, padding=kernel_size//2, bias=False)   #padding=1\n",
        "     self.bn = nn.BatchNorm2d(channels)\n",
        "  def forward(self,x):\n",
        "     return self.bn(torch.relu(self.conv(x)))\n",
        "  \n",
        "\n",
        "class ConvNet(nn.Module):\n",
        "  def __init__(self, base_channels=16, in_channels=3, num_classes=55):  #in_channels=4\n",
        "      super(ConvNet, self).__init__()   \n",
        "      \n",
        "      self.c11 = Conv(in_channels, base_channels)\n",
        "      self.c12 = Conv(base_channels, base_channels)\n",
        "      # Downscale using strided convolution and expand channels\n",
        "      self.d1 = Conv(base_channels, base_channels*2, stride=2)\n",
        "\n",
        "      self.c21 = Conv(base_channels*2, base_channels*2)\n",
        "      self.c22 = Conv(base_channels*2, base_channels*2)\n",
        "      self.d2 = Conv(base_channels*2, base_channels*4, stride=2)\n",
        "        \n",
        "      self.c31 = Conv(base_channels*4, base_channels*4)\n",
        "      self.c32 = Conv(base_channels*4, base_channels*4)\n",
        "      self.d3 = Conv(base_channels*4, base_channels*8, stride=2)\n",
        "        \n",
        "      self.c41 = Conv(base_channels*8, base_channels*8)\n",
        "      self.c42 = Conv(base_channels*8, base_channels*8)\n",
        "      self.d4 = Conv(base_channels*8, base_channels*16, stride=2)\n",
        "        \n",
        "      self.c51 = Conv(base_channels*16, base_channels*16)\n",
        "      self.c52 = Conv(base_channels*16, base_channels*16)\n",
        "      self.d5 = Conv(base_channels*16, base_channels*32, stride=2)\n",
        "      # Input image is 32x32 -> after 5 downscaling the activation map is 1x1\n",
        "      \n",
        "      # Classifier is a convolution that produces num_classes class scores\n",
        "      self.classifier = nn.Conv2d(base_channels*32,num_classes, 1) #kernel_size=1\n",
        "\n",
        "  def forward(self,x):\n",
        "        # Class all the layers\n",
        "        x = self.d1(self.c12(self.c11(x)))\n",
        "        x = self.d2(self.c22(self.c21(x)))\n",
        "        x = self.d3(self.c32(self.c31(x)))\n",
        "        x = self.d4(self.c42(self.c41(x)))\n",
        "        x = self.d5(self.c52(self.c51(x)))\n",
        "        return torch.squeeze(self.classifier(x))\n",
        "\n",
        "\n",
        "haveCuda = torch.cuda.is_available()\n",
        "\n",
        "#DATA AUGMENTATION\n",
        "transform_val = transforms.Compose([\n",
        "    transforms.ToTensor(),\n",
        "    transforms.Normalize((0.49139968, 0.48215827, 0.44653124),\n",
        "                         (0.24703233, 0.24348505, 0.26158768))\n",
        "     #transforms.Normalize((0.3337, 0.3064, 0.3171), ( 0.2672, 0.2564, 0.2629)) # mean = 0 and standard-deviation = 1\n",
        "])\n",
        "\n",
        "transform = transforms.Compose([\n",
        "    transforms.RandomCrop(32,padding=4),\n",
        "    # Random perturbance of brightness, contrast and color\n",
        "    transforms.ColorJitter(brightness=0.3,contrast=0.3,saturation=0.3,hue=0.2),\n",
        "    transforms.ToTensor(),\n",
        "    transforms.Normalize((0.49139968, 0.48215827, 0.44653124),\n",
        "                         (0.24703233, 0.24348505, 0.26158768))\n",
        "    #transforms.Normalize((0.3337, 0.3064, 0.3171), ( 0.2672, 0.2564, 0.2629)) # mean = 0 and standard-deviation = 1\n",
        "])\n",
        "\n",
        "#DATASETS\n",
        "trainSet = torchvision.datasets.ImageFolder(root=\"./trafficSignsHW/trainFULL\", transform=transform)\n",
        "testSet = torchvision.datasets.ImageFolder(root=\"./trafficSignsHW/testFULL\", transform=transform_val) #is_valid_file=None\n",
        "#valSet= torchvision.datasets.ImageFolder(root=\"./trafficSignsHW/trainFULL\", transform=transform_val)\n",
        "\n",
        "trainLoader = torch.utils.data.DataLoader(trainSet, batch_size=512, shuffle=True) #sampler overfitting kevés adatra bs=128\n",
        "testLoader = torch.utils.data.DataLoader(testSet, batch_size=512, shuffle=False)\n",
        "#valLoader= torch.utils.data.DataLoader(valSet, batch_size=512, shuffle=False)\n",
        "\n",
        "def createNet():\n",
        "    net = ConvNet()  #neurális háló létrehozása base_chanels=(16)\n",
        "    if haveCuda:\n",
        "        net = net.cuda()\n",
        "    return net\n",
        "\n",
        "def createLoss():\n",
        "    return nn.CrossEntropyLoss()\n",
        "\n",
        "# create optimizer\n",
        "def createOptimizer():\n",
        "    return optim.SGD(net.parameters(), lr=1e-2, momentum=0.5)  # lr=1e-1, momentum=0.9,nesterov=True, weight_decay=1e-4\n",
        "\n",
        "numEpoch =10\n",
        "\n",
        "def createScheduler():\n",
        "    return optim.lr_scheduler.CosineAnnealingLR(optimizer,numEpoch,eta_min=1e-2)\n",
        "\n",
        "\n",
        "#Progress bar\n",
        "from IPython.display import HTML, display\n",
        "\n",
        "def progress(value, max=100):\n",
        "    return HTML(\"\"\"\n",
        "        <progress\n",
        "            value='{value}'\n",
        "            max='{max}',\n",
        "            style='width: 100%'\n",
        "        >\n",
        "            {value}\n",
        "        </progress>\n",
        "    \"\"\".format(value=value, max=max))\n",
        "\n",
        "\n",
        "\n",
        "def train(epoch):\n",
        "\n",
        "    # variables for loss\n",
        "    running_loss = 0.0\n",
        "    correct = 0.0\n",
        "    total = 0\n",
        "\n",
        "    # set the network to train (for batchnorm and dropout)\n",
        "    net.train()\n",
        "\n",
        "    # Create progress bar\n",
        "    bar = display(progress(0, len(trainLoader)), display_id=True)\n",
        "\n",
        "    for i, data in enumerate(trainLoader, 0):\n",
        "        \n",
        "        inputs, labels = data\n",
        "        if haveCuda:\n",
        "            inputs, labels = inputs.cuda(), labels.cuda()\n",
        "\n",
        "        optimizer.zero_grad()\n",
        "        # Forward\n",
        "        outputs = net(inputs)\n",
        "        # Loss\n",
        "        loss = criterion(outputs, labels)  #loss = torch.nn.functional.nll_loss(outputs, labels)\n",
        "        # Backpropagation\n",
        "        loss.backward()\n",
        "        # Gradient method\n",
        "        optimizer.step()\n",
        "\n",
        "        # Do not include these steps in the computational graph\n",
        "        with torch.no_grad():\n",
        "            # Accumulate loss\n",
        "            running_loss += loss.item()\n",
        "            # Get indices of the largest goodness values\n",
        "            _, predicted = torch.max(outputs, 1)\n",
        "            # Count how many of the predictions equal the labels\n",
        "            correct += predicted.eq(labels).sum().item()\n",
        "            # Accumulate number of total images seen\n",
        "            total += labels.shape[0]   ####\n",
        "\n",
        "        # Progress bar\n",
        "        bar.update(progress(i+1, len(trainLoader)))\n",
        "\n",
        "    # return loss and accuracy\n",
        "    tr_loss = running_loss / i\n",
        "    tr_corr = correct / total * 100\n",
        "    print(\"Train epoch %d loss: %.3f correct: %.2f\" % (epoch + 1, running_loss / i, tr_corr))\n",
        "    return tr_loss,tr_corr\n",
        "\n",
        "# Function for validating a single epch\n",
        "def val(epoch):\n",
        "\n",
        "    # variables for loss\n",
        "    running_loss = 0.0\n",
        "    correct = 0.0\n",
        "    total = 0\n",
        "\n",
        "    # set the network to eval  (for batchnorm and dropout)\n",
        "    net.eval()\n",
        "\n",
        "    # Create progress bar\n",
        "    bar = display(progress(0, len(testLoader)), display_id=True)\n",
        "\n",
        "    for i, data in enumerate(testLoader, 0):\n",
        "        # get the inputs\n",
        "        inputs, labels = data\n",
        "        if haveCuda:\n",
        "            inputs, labels = inputs.cuda(), labels.cuda()\n",
        "\n",
        "        # Do not include these steps in the computational graph\n",
        "        with torch.no_grad():\n",
        "            # Forward\n",
        "            outputs = net(inputs)\n",
        "            # Compute loss\n",
        "            loss = criterion(outputs, labels)\n",
        "\n",
        "            # Compute statistics, just like before\n",
        "            running_loss += loss.item()\n",
        "            _, predicted = torch.max(outputs, 1)\n",
        "            correct += predicted.eq(labels).sum().item()\n",
        "            total += labels.shape[0]\n",
        "\n",
        "        bar.update(progress(i+1, len(testLoader)))\n",
        "\n",
        "    # return loss and accuracy\n",
        "    val_loss = running_loss / i\n",
        "    val_corr = correct / total * 100\n",
        "    print(\"Test epoch %d loss: %.3f correct: %.2f\" % (epoch + 1, running_loss / i, val_corr))\n",
        "    return val_loss,val_corr\n",
        "\n",
        "#MAIN LOOP\n",
        "# Containers for losses and accuracies for every epoch\n",
        "train_accs = []\n",
        "train_losses = []\n",
        "val_accs = []\n",
        "val_losses = []\n",
        "\n",
        "# Best validation accuracy\n",
        "best_acc = 0\n",
        "\n",
        "# Set pseudo-random generator seeds to make multiple runs comparable\n",
        "torch.manual_seed(42)\n",
        "if haveCuda:\n",
        "    torch.cuda.manual_seed(42)\n",
        "    torch.backends.cudnn.deterministic= True\n",
        "    torch.backends.cudnn.benchmark= False\n",
        "# Create net, criterion, optimizer and scheduler\n",
        "# This needs to be done after setting the random seed, \n",
        "# so that the random initialization would be the same\n",
        "net = createNet()\n",
        "criterion = createLoss()\n",
        "optimizer = createOptimizer()\n",
        "scheduler = createScheduler()\n",
        "\n",
        "# For numEpoch epochs\n",
        "for epoch in range(numEpoch): \n",
        "    \n",
        "    # Train\n",
        "    loss,acc = train(epoch)\n",
        "    train_accs.append(acc)\n",
        "    train_losses.append(loss)\n",
        "    \n",
        "    # Validate\n",
        "    loss,acc = val(epoch)\n",
        "    val_accs.append(acc)\n",
        "    val_losses.append(loss)\n",
        "    \n",
        "    # Step with the LR scheduler\n",
        "    scheduler.step()\n",
        "    \n",
        "    # If the current model is better, than the previous best, save it\n",
        "    if acc > best_acc:\n",
        "        print(\"Best Model, Saving\")\n",
        "        best_acc = acc\n",
        "        torch.save(net,\"./model.pth\")"
      ],
      "execution_count": 0,
      "outputs": [
        {
          "output_type": "display_data",
          "data": {
            "text/html": [
              "\n",
              "        <progress\n",
              "            value='204'\n",
              "            max='204',\n",
              "            style='width: 100%'\n",
              "        >\n",
              "            204\n",
              "        </progress>\n",
              "    "
            ],
            "text/plain": [
              "<IPython.core.display.HTML object>"
            ]
          },
          "metadata": {
            "tags": []
          }
        },
        {
          "output_type": "stream",
          "text": [
            "Train epoch 1 loss: 2.060 correct: 44.60\n"
          ],
          "name": "stdout"
        },
        {
          "output_type": "display_data",
          "data": {
            "text/html": [
              "\n",
              "        <progress\n",
              "            value='21'\n",
              "            max='21',\n",
              "            style='width: 100%'\n",
              "        >\n",
              "            21\n",
              "        </progress>\n",
              "    "
            ],
            "text/plain": [
              "<IPython.core.display.HTML object>"
            ]
          },
          "metadata": {
            "tags": []
          }
        },
        {
          "output_type": "stream",
          "text": [
            "Test epoch 1 loss: 0.872 correct: 74.71\n",
            "Best Model, Saving\n"
          ],
          "name": "stdout"
        },
        {
          "output_type": "stream",
          "text": [
            "/usr/local/lib/python3.6/dist-packages/torch/serialization.py:402: UserWarning: Couldn't retrieve source code for container of type ConvNet. It won't be checked for correctness upon loading.\n",
            "  \"type \" + obj.__name__ + \". It won't be checked \"\n",
            "/usr/local/lib/python3.6/dist-packages/torch/serialization.py:402: UserWarning: Couldn't retrieve source code for container of type Conv. It won't be checked for correctness upon loading.\n",
            "  \"type \" + obj.__name__ + \". It won't be checked \"\n"
          ],
          "name": "stderr"
        },
        {
          "output_type": "display_data",
          "data": {
            "text/html": [
              "\n",
              "        <progress\n",
              "            value='204'\n",
              "            max='204',\n",
              "            style='width: 100%'\n",
              "        >\n",
              "            204\n",
              "        </progress>\n",
              "    "
            ],
            "text/plain": [
              "<IPython.core.display.HTML object>"
            ]
          },
          "metadata": {
            "tags": []
          }
        },
        {
          "output_type": "stream",
          "text": [
            "Train epoch 2 loss: 0.507 correct: 85.73\n"
          ],
          "name": "stdout"
        },
        {
          "output_type": "display_data",
          "data": {
            "text/html": [
              "\n",
              "        <progress\n",
              "            value='21'\n",
              "            max='21',\n",
              "            style='width: 100%'\n",
              "        >\n",
              "            21\n",
              "        </progress>\n",
              "    "
            ],
            "text/plain": [
              "<IPython.core.display.HTML object>"
            ]
          },
          "metadata": {
            "tags": []
          }
        },
        {
          "output_type": "stream",
          "text": [
            "Test epoch 2 loss: 0.367 correct: 89.69\n",
            "Best Model, Saving\n"
          ],
          "name": "stdout"
        },
        {
          "output_type": "display_data",
          "data": {
            "text/html": [
              "\n",
              "        <progress\n",
              "            value='204'\n",
              "            max='204',\n",
              "            style='width: 100%'\n",
              "        >\n",
              "            204\n",
              "        </progress>\n",
              "    "
            ],
            "text/plain": [
              "<IPython.core.display.HTML object>"
            ]
          },
          "metadata": {
            "tags": []
          }
        },
        {
          "output_type": "stream",
          "text": [
            "Train epoch 3 loss: 0.227 correct: 93.85\n"
          ],
          "name": "stdout"
        },
        {
          "output_type": "display_data",
          "data": {
            "text/html": [
              "\n",
              "        <progress\n",
              "            value='21'\n",
              "            max='21',\n",
              "            style='width: 100%'\n",
              "        >\n",
              "            21\n",
              "        </progress>\n",
              "    "
            ],
            "text/plain": [
              "<IPython.core.display.HTML object>"
            ]
          },
          "metadata": {
            "tags": []
          }
        },
        {
          "output_type": "stream",
          "text": [
            "Test epoch 3 loss: 0.349 correct: 92.05\n",
            "Best Model, Saving\n"
          ],
          "name": "stdout"
        },
        {
          "output_type": "display_data",
          "data": {
            "text/html": [
              "\n",
              "        <progress\n",
              "            value='204'\n",
              "            max='204',\n",
              "            style='width: 100%'\n",
              "        >\n",
              "            204\n",
              "        </progress>\n",
              "    "
            ],
            "text/plain": [
              "<IPython.core.display.HTML object>"
            ]
          },
          "metadata": {
            "tags": []
          }
        },
        {
          "output_type": "stream",
          "text": [
            "Train epoch 4 loss: 0.138 correct: 96.37\n"
          ],
          "name": "stdout"
        },
        {
          "output_type": "display_data",
          "data": {
            "text/html": [
              "\n",
              "        <progress\n",
              "            value='21'\n",
              "            max='21',\n",
              "            style='width: 100%'\n",
              "        >\n",
              "            21\n",
              "        </progress>\n",
              "    "
            ],
            "text/plain": [
              "<IPython.core.display.HTML object>"
            ]
          },
          "metadata": {
            "tags": []
          }
        },
        {
          "output_type": "stream",
          "text": [
            "Test epoch 4 loss: 0.105 correct: 97.17\n",
            "Best Model, Saving\n"
          ],
          "name": "stdout"
        },
        {
          "output_type": "display_data",
          "data": {
            "text/html": [
              "\n",
              "        <progress\n",
              "            value='204'\n",
              "            max='204',\n",
              "            style='width: 100%'\n",
              "        >\n",
              "            204\n",
              "        </progress>\n",
              "    "
            ],
            "text/plain": [
              "<IPython.core.display.HTML object>"
            ]
          },
          "metadata": {
            "tags": []
          }
        },
        {
          "output_type": "stream",
          "text": [
            "Train epoch 5 loss: 0.101 correct: 97.30\n"
          ],
          "name": "stdout"
        },
        {
          "output_type": "display_data",
          "data": {
            "text/html": [
              "\n",
              "        <progress\n",
              "            value='21'\n",
              "            max='21',\n",
              "            style='width: 100%'\n",
              "        >\n",
              "            21\n",
              "        </progress>\n",
              "    "
            ],
            "text/plain": [
              "<IPython.core.display.HTML object>"
            ]
          },
          "metadata": {
            "tags": []
          }
        },
        {
          "output_type": "stream",
          "text": [
            "Test epoch 5 loss: 0.080 correct: 98.11\n",
            "Best Model, Saving\n"
          ],
          "name": "stdout"
        },
        {
          "output_type": "display_data",
          "data": {
            "text/html": [
              "\n",
              "        <progress\n",
              "            value='204'\n",
              "            max='204',\n",
              "            style='width: 100%'\n",
              "        >\n",
              "            204\n",
              "        </progress>\n",
              "    "
            ],
            "text/plain": [
              "<IPython.core.display.HTML object>"
            ]
          },
          "metadata": {
            "tags": []
          }
        },
        {
          "output_type": "stream",
          "text": [
            "Train epoch 6 loss: 0.082 correct: 97.78\n"
          ],
          "name": "stdout"
        },
        {
          "output_type": "display_data",
          "data": {
            "text/html": [
              "\n",
              "        <progress\n",
              "            value='21'\n",
              "            max='21',\n",
              "            style='width: 100%'\n",
              "        >\n",
              "            21\n",
              "        </progress>\n",
              "    "
            ],
            "text/plain": [
              "<IPython.core.display.HTML object>"
            ]
          },
          "metadata": {
            "tags": []
          }
        },
        {
          "output_type": "stream",
          "text": [
            "Test epoch 6 loss: 0.064 correct: 98.38\n",
            "Best Model, Saving\n"
          ],
          "name": "stdout"
        },
        {
          "output_type": "display_data",
          "data": {
            "text/html": [
              "\n",
              "        <progress\n",
              "            value='204'\n",
              "            max='204',\n",
              "            style='width: 100%'\n",
              "        >\n",
              "            204\n",
              "        </progress>\n",
              "    "
            ],
            "text/plain": [
              "<IPython.core.display.HTML object>"
            ]
          },
          "metadata": {
            "tags": []
          }
        },
        {
          "output_type": "stream",
          "text": [
            "Train epoch 7 loss: 0.068 correct: 98.16\n"
          ],
          "name": "stdout"
        },
        {
          "output_type": "display_data",
          "data": {
            "text/html": [
              "\n",
              "        <progress\n",
              "            value='21'\n",
              "            max='21',\n",
              "            style='width: 100%'\n",
              "        >\n",
              "            21\n",
              "        </progress>\n",
              "    "
            ],
            "text/plain": [
              "<IPython.core.display.HTML object>"
            ]
          },
          "metadata": {
            "tags": []
          }
        },
        {
          "output_type": "stream",
          "text": [
            "Test epoch 7 loss: 0.097 correct: 97.50\n"
          ],
          "name": "stdout"
        },
        {
          "output_type": "display_data",
          "data": {
            "text/html": [
              "\n",
              "        <progress\n",
              "            value='204'\n",
              "            max='204',\n",
              "            style='width: 100%'\n",
              "        >\n",
              "            204\n",
              "        </progress>\n",
              "    "
            ],
            "text/plain": [
              "<IPython.core.display.HTML object>"
            ]
          },
          "metadata": {
            "tags": []
          }
        },
        {
          "output_type": "stream",
          "text": [
            "Train epoch 8 loss: 0.059 correct: 98.41\n"
          ],
          "name": "stdout"
        },
        {
          "output_type": "display_data",
          "data": {
            "text/html": [
              "\n",
              "        <progress\n",
              "            value='21'\n",
              "            max='21',\n",
              "            style='width: 100%'\n",
              "        >\n",
              "            21\n",
              "        </progress>\n",
              "    "
            ],
            "text/plain": [
              "<IPython.core.display.HTML object>"
            ]
          },
          "metadata": {
            "tags": []
          }
        },
        {
          "output_type": "stream",
          "text": [
            "Test epoch 8 loss: 0.056 correct: 98.74\n",
            "Best Model, Saving\n"
          ],
          "name": "stdout"
        },
        {
          "output_type": "display_data",
          "data": {
            "text/html": [
              "\n",
              "        <progress\n",
              "            value='204'\n",
              "            max='204',\n",
              "            style='width: 100%'\n",
              "        >\n",
              "            204\n",
              "        </progress>\n",
              "    "
            ],
            "text/plain": [
              "<IPython.core.display.HTML object>"
            ]
          },
          "metadata": {
            "tags": []
          }
        },
        {
          "output_type": "stream",
          "text": [
            "Train epoch 9 loss: 0.052 correct: 98.61\n"
          ],
          "name": "stdout"
        },
        {
          "output_type": "display_data",
          "data": {
            "text/html": [
              "\n",
              "        <progress\n",
              "            value='21'\n",
              "            max='21',\n",
              "            style='width: 100%'\n",
              "        >\n",
              "            21\n",
              "        </progress>\n",
              "    "
            ],
            "text/plain": [
              "<IPython.core.display.HTML object>"
            ]
          },
          "metadata": {
            "tags": []
          }
        },
        {
          "output_type": "stream",
          "text": [
            "Test epoch 9 loss: 0.116 correct: 97.20\n"
          ],
          "name": "stdout"
        },
        {
          "output_type": "display_data",
          "data": {
            "text/html": [
              "\n",
              "        <progress\n",
              "            value='204'\n",
              "            max='204',\n",
              "            style='width: 100%'\n",
              "        >\n",
              "            204\n",
              "        </progress>\n",
              "    "
            ],
            "text/plain": [
              "<IPython.core.display.HTML object>"
            ]
          },
          "metadata": {
            "tags": []
          }
        },
        {
          "output_type": "stream",
          "text": [
            "Train epoch 10 loss: 0.047 correct: 98.72\n"
          ],
          "name": "stdout"
        },
        {
          "output_type": "display_data",
          "data": {
            "text/html": [
              "\n",
              "        <progress\n",
              "            value='21'\n",
              "            max='21',\n",
              "            style='width: 100%'\n",
              "        >\n",
              "            21\n",
              "        </progress>\n",
              "    "
            ],
            "text/plain": [
              "<IPython.core.display.HTML object>"
            ]
          },
          "metadata": {
            "tags": []
          }
        },
        {
          "output_type": "stream",
          "text": [
            "Test epoch 10 loss: 0.047 correct: 98.86\n",
            "Best Model, Saving\n"
          ],
          "name": "stdout"
        }
      ]
    },
    {
      "cell_type": "markdown",
      "metadata": {
        "id": "ZiNlxuBsHm-_",
        "colab_type": "text"
      },
      "source": [
        "# Plot graphs"
      ]
    },
    {
      "cell_type": "code",
      "metadata": {
        "id": "3iE5NZXDHoEs",
        "colab_type": "code",
        "outputId": "0e8de96d-5bde-4093-9c00-cebe47507002",
        "colab": {
          "base_uri": "https://localhost:8080/",
          "height": 328
        }
      },
      "source": [
        "import numpy as np\n",
        "import matplotlib.pyplot as plt\n",
        "%matplotlib inline\n",
        "\n",
        "# X coordinate for plotting\n",
        "x = np.arange(numEpoch)\n",
        "\n",
        "plt.figure(figsize=(20,10))\n",
        "\n",
        "# Train is red, validation is blue\n",
        "plt.subplot(1,2,1)\n",
        "plt.plot(x,train_accs,'r')\n",
        "plt.plot(x,val_accs,'b')\n",
        "\n",
        "plt.subplot(1,2,2)\n",
        "plt.plot(x,train_losses,'r')\n",
        "plt.plot(x,val_losses,'b')\n",
        "\n",
        "plt.show()\n",
        "\n",
        "\n"
      ],
      "execution_count": 0,
      "outputs": [
        {
          "output_type": "display_data",
          "data": {
            "image/png": "[encoded data removed]",
            "text/plain": [
              "<Figure size 1440x720 with 2 Axes>"
            ]
          },
          "metadata": {
            "tags": [],
            "needs_background": "light"
          }
        }
      ]
    },
    {
      "cell_type": "markdown",
      "metadata": {
        "id": "7_1mlOpnHq1k",
        "colab_type": "text"
      },
      "source": [
        "# Load model and classify image"
      ]
    },
    {
      "cell_type": "code",
      "metadata": {
        "id": "d5gIMUKCH1dD",
        "colab_type": "code",
        "colab": {
          "base_uri": "https://localhost:8080/",
          "height": 82
        },
        "outputId": "3e51a26b-07a4-472c-d61e-f4fe7fcc703a"
      },
      "source": [
        "from PIL import Image\n",
        "\n",
        "model = torch.load(\"./model.pth\")\n",
        "model.eval()\n",
        "\n",
        "transform = transforms.Compose([transforms.ToTensor()]) \n",
        "\n",
        "img = Image.open(\"/content/img(7776).jpg\")  \n",
        "x = transform(img)  # Preprocess image\n",
        "x = x.unsqueeze(0)  # Add batch dimension\n",
        "x=x.cuda()\n",
        "\n",
        "output = model(x)  # Forward pass\n",
        "_, pred = torch.max(output, 0)  # Get predicted class if multi-class classification\n",
        "\n",
        "print('Image predicted as ', subclassNames[0][pred.item()])\n",
        "print(torch.max(output,0))\n"
      ],
      "execution_count": 11,
      "outputs": [
        {
          "output_type": "stream",
          "text": [
            "Image predicted as  No waiting\n",
            "torch.return_types.max(\n",
            "values=tensor(7.5168, device='cuda:0', grad_fn=<MaxBackward0>),\n",
            "indices=tensor(41, device='cuda:0'))\n"
          ],
          "name": "stdout"
        }
      ]
    }
  ]
}